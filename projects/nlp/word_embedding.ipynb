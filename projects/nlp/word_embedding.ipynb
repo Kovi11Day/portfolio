{
 "cells": [
  {
   "cell_type": "code",
   "execution_count": 60,
   "id": "b75432af",
   "metadata": {},
   "outputs": [],
   "source": [
    "# imports\n",
    "import nltk\n",
    "import numpy as np"
   ]
  },
  {
   "cell_type": "markdown",
   "id": "d97693c0",
   "metadata": {},
   "source": [
    "### 1. Clean and Tokenize Text"
   ]
  },
  {
   "cell_type": "code",
   "execution_count": 2,
   "id": "03906fb3",
   "metadata": {},
   "outputs": [],
   "source": [
    "# TODO\n",
    "# def clean_and_tokenize(text):\n",
    "# or simply use nltk function\n",
    "# function dependent on dataset and task\n",
    "# put clean and tokenze function in python files"
   ]
  },
  {
   "cell_type": "code",
   "execution_count": 9,
   "id": "f7c4bf73",
   "metadata": {},
   "outputs": [],
   "source": [
    "def clean_and_tokenize(text):\n",
    "    return nltk.word_tokenize(text)"
   ]
  },
  {
   "cell_type": "code",
   "execution_count": 10,
   "id": "11fb7fea",
   "metadata": {},
   "outputs": [
    {
     "data": {
      "text/plain": [
       "['explain', 'how', 'vocabulary', 'is', 'built']"
      ]
     },
     "execution_count": 10,
     "metadata": {},
     "output_type": "execute_result"
    }
   ],
   "source": [
    "clean_and_tokenize(\"explain how vocabulary is built\")"
   ]
  },
  {
   "cell_type": "markdown",
   "id": "095bd8bf",
   "metadata": {},
   "source": [
    "### 2. Define Vocabulary\n",
    "- explain how vocabulary is built\n",
    "- determine vocabulary threshold"
   ]
  },
  {
   "cell_type": "code",
   "execution_count": null,
   "id": "a6b3995f",
   "metadata": {},
   "outputs": [],
   "source": [
    "# TODO\n",
    "# define vocabulary function\n",
    "# put function in python file to call"
   ]
  },
  {
   "cell_type": "code",
   "execution_count": 11,
   "id": "100e2520",
   "metadata": {},
   "outputs": [],
   "source": [
    "def build_vocabulary(corpus, vocabulary_threshold=None):\n",
    "    '''\n",
    "    Parameters:\n",
    "        - corpus [list(string)]: list of tokens\n",
    "        - vocabulary_threshold [int]: minimum occurrence of token\n",
    "    Returns:\n",
    "        - vocabulary [dictionary]:\n",
    "                - keys: token\n",
    "                - values: occurrence of token in corpus\n",
    "    '''\n",
    "    vocabulary = {}\n",
    "    \n",
    "    # build vocabulary\n",
    "    for token in corpus:\n",
    "        if token in vocabulary.keys():\n",
    "            vocabulary[token] += 1\n",
    "        else:\n",
    "            vocabulary[token] = 1\n",
    "            \n",
    "    # apply vocabulary threshold\n",
    "    keys_to_remove = []\n",
    "    \n",
    "    if vocabulary_threshold:\n",
    "        for key in vocabulary.keys():\n",
    "            if vocabulary[key]<vocabulary_threshold:\n",
    "                keys_to_remove.append(key)\n",
    "    \n",
    "    for key in keys_to_remove:\n",
    "        vocabulary.pop(key)\n",
    "            \n",
    "    return vocabulary"
   ]
  },
  {
   "cell_type": "code",
   "execution_count": 12,
   "id": "d3f316ad",
   "metadata": {},
   "outputs": [
    {
     "name": "stdout",
     "output_type": "stream",
     "text": [
      "{'this': 2, 'is': 1, 'a': 2, 'trial': 1, 'run': 1, 'fun': 3}\n",
      "{'this': 2, 'a': 2, 'fun': 3}\n"
     ]
    }
   ],
   "source": [
    "# test build_vocabulary\n",
    "\n",
    "corpus = ['this', 'is', 'a', 'trial', 'run', 'a', 'this', 'fun', 'fun', 'fun']\n",
    "\n",
    "print(build_vocabulary(corpus))\n",
    "\n",
    "print(build_vocabulary(corpus, vocabulary_threshold=2))"
   ]
  },
  {
   "cell_type": "markdown",
   "id": "91a064cc",
   "metadata": {},
   "source": [
    "### 3. Build Co-occurrence matrix\n",
    "- document how unknown tokens are managed\n",
    "- 'Bag of words' concept vs co-occurrence matrix\n"
   ]
  },
  {
   "cell_type": "code",
   "execution_count": 72,
   "id": "9ce60f02",
   "metadata": {},
   "outputs": [],
   "source": [
    "def build_co_occurrence_matrix(corpus, vocabulary, window_size):\n",
    "    '''\n",
    "    Parameters:\n",
    "        - corpus [list(string)]: list of tokens\n",
    "        - vocabulary [list(string)]: list of unique tokens to use as vocabulary\n",
    "        - window_size [int]: size of window within which to consider co-occurrence\n",
    "    Returns:\n",
    "        - co_occurrence_matrix [2D array] : 2D array of integers indicating co-occurrence of tokens\n",
    "    '''\n",
    "\n",
    "    n = len(vocabulary)\n",
    "    \n",
    "    # matrix of vocabulary size + 1 'for unknown'\n",
    "    co_occurrence_matrix = np.array([[0] * (n+1)] * (n+1))\n",
    "    \n",
    "    for i in range(len(corpus)):\n",
    "        \n",
    "        left_factor = (window_size-1)//2\n",
    "        right_factor = ((window_size-1)//2) + ((window_size-1)%2)\n",
    "        \n",
    "        for j in range(max(0,i - left_factor), min(len(corpus), i + right_factor + 1)):\n",
    "            \n",
    "            if i != j:\n",
    "            \n",
    "                index_i = i\n",
    "                index_j = j\n",
    "            \n",
    "                # check if token in vocabulary\n",
    "                if corpus[i] in vocabulary:\n",
    "                    index_i = vocabulary.index(corpus[i])\n",
    "                else:\n",
    "                    index_i = n\n",
    "                \n",
    "                # check if co-occurring token in vocabulary\n",
    "                if corpus[j] in vocabulary:\n",
    "                    index_j = vocabulary.index(corpus[j])\n",
    "                else:\n",
    "                    index_j = n\n",
    "                \n",
    "                # update co-occurrence matrix\n",
    "                co_occurrence_matrix[index_i][index_j] += 1\n",
    "                \n",
    "    return co_occurrence_matrix"
   ]
  },
  {
   "cell_type": "code",
   "execution_count": 73,
   "id": "56f3602a",
   "metadata": {},
   "outputs": [
    {
     "name": "stdout",
     "output_type": "stream",
     "text": [
      "{'this': 2, 'is': 1, 'a': 2, 'trial': 1, 'run': 1, 'fun': 3}\n",
      "['this', 'is', 'a', 'trial', 'run', 'fun']\n",
      "[[0 1 1 0 0 1 0]\n",
      " [1 0 1 0 0 0 0]\n",
      " [1 1 0 1 1 0 0]\n",
      " [0 0 1 0 1 0 0]\n",
      " [0 0 1 1 0 0 0]\n",
      " [1 0 0 0 0 4 1]\n",
      " [0 0 0 0 0 1 0]]\n"
     ]
    }
   ],
   "source": [
    "corpus = ['this', 'is', 'a', 'trial', 'run', 'a', 'this', 'fun', 'fun', 'fun']\n",
    "voc = build_vocabulary(corpus)\n",
    "print(voc)\n",
    "print(list(voc.keys()))\n",
    "corpus2 = ['this', 'is', 'a', 'trial', 'run', 'a', 'this', 'fun', 'fun', 'fun', 'not_in_vocab']\n",
    "\n",
    "cooc = build_co_occurrence_matrix(corpus2, list(voc.keys()), 3)\n",
    "print(cooc)"
   ]
  },
  {
   "cell_type": "code",
   "execution_count": null,
   "id": "c22a51e9",
   "metadata": {},
   "outputs": [],
   "source": []
  },
  {
   "cell_type": "code",
   "execution_count": null,
   "id": "f185c885",
   "metadata": {},
   "outputs": [],
   "source": []
  }
 ],
 "metadata": {
  "kernelspec": {
   "display_name": "Python 3",
   "language": "python",
   "name": "python3"
  },
  "language_info": {
   "codemirror_mode": {
    "name": "ipython",
    "version": 3
   },
   "file_extension": ".py",
   "mimetype": "text/x-python",
   "name": "python",
   "nbconvert_exporter": "python",
   "pygments_lexer": "ipython3",
   "version": "3.8.8"
  }
 },
 "nbformat": 4,
 "nbformat_minor": 5
}
