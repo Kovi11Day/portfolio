{
 "cells": [
  {
   "cell_type": "code",
   "execution_count": 67,
   "id": "303586b7",
   "metadata": {},
   "outputs": [],
   "source": [
    "# imports\n",
    "import numpy as np\n",
    "import pandas as pd\n",
    "import matplotlib.pyplot as plt\n",
    "from sklearn.metrics import accuracy_score"
   ]
  },
  {
   "cell_type": "markdown",
   "id": "a3024a56",
   "metadata": {},
   "source": [
    "# HMM to classify images of handwritten digits\n",
    "Given 3 HMMs representing the 0, 1 and 7 digits and sequences of observations, our goal is to classify these observations according to the digits they represent: 0,1 or 7.\n",
    "\n",
    "We will be coding the Viterbi algorithm from scratch.\n",
    "\n",
    "This work is based on the coursework: TP Markov-HMM Télécom Paris par Laurence Likforman-Sulem, Morgan Buisson, David Perera"
   ]
  },
  {
   "cell_type": "markdown",
   "id": "c5b4133d",
   "metadata": {},
   "source": [
    "## Data Representation and Model Representation\n",
    "- The handwritten digits are a simplified version of the MNIST dataset.\n",
    "- The image of a digit is represented by 5x28 pixels each of binary value.\n",
    "- A digit is modelled by 5 states (from left to right). The states 1 and 5 represent background pixels of value 0. The states 2, 3 and 4 represent the beginning, the middle and the end of the digit.\n",
    "- An observation is represented by a column of 5 pixels.\n",
    "- A state can emit $2^5 = 32$ possible observations."
   ]
  },
  {
   "cell_type": "markdown",
   "id": "463294d1",
   "metadata": {},
   "source": [
    "## HMM Models\n",
    "- We have 3 HMM Models representing the 0, 1 and 7 digits. \n",
    "- Each model corresponds to 3 files, for example, for the 0 model:\n",
    "    - **A0.txt** : hidden state transition probabilities (5 x 5 matrix)\n",
    "    - **B0.txt** : observation probabilities (32 x 5 matrix)\n",
    "    - **vect_pi0.txt**: probability of starting from each state (1 x 5 matrix)"
   ]
  },
  {
   "cell_type": "code",
   "execution_count": 15,
   "id": "3e20db59",
   "metadata": {},
   "outputs": [],
   "source": [
    "def chargement_fichiers(digit):\n",
    "    # chargement A\n",
    "    a_name = 'A' + str(digit)\n",
    "    A = np.loadtxt('data/' + a_name + '.txt')\n",
    "    A = pd.DataFrame(A)\n",
    "    \n",
    "    # chargement B\n",
    "    b_name = 'B' + str(digit)\n",
    "    B = np.loadtxt('data/' + b_name + '.txt')\n",
    "    B = pd.DataFrame(B)\n",
    "    \n",
    "    # chargement pi\n",
    "    pi_name = 'vect_pi' + str(digit)\n",
    "    vect_pi = np.loadtxt('data/' + pi_name + '.txt')\n",
    "    \n",
    "    return A, B, vect_pi"
   ]
  },
  {
   "cell_type": "code",
   "execution_count": 17,
   "id": "b69e0ab2",
   "metadata": {},
   "outputs": [],
   "source": [
    "# chargement des fichiers\n",
    "A0, B0, vect_p0 = chargement_fichiers(0)\n",
    "A1, B1, vect_p1 = chargement_fichiers(1)\n",
    "A7, B7, vect_p7 = chargement_fichiers(7)"
   ]
  },
  {
   "cell_type": "markdown",
   "id": "53f49a38",
   "metadata": {},
   "source": [
    "### - Transition Probabilities of HMM for digit 0"
   ]
  },
  {
   "cell_type": "code",
   "execution_count": 18,
   "id": "df04031f",
   "metadata": {},
   "outputs": [
    {
     "data": {
      "text/html": [
       "<div>\n",
       "<style scoped>\n",
       "    .dataframe tbody tr th:only-of-type {\n",
       "        vertical-align: middle;\n",
       "    }\n",
       "\n",
       "    .dataframe tbody tr th {\n",
       "        vertical-align: top;\n",
       "    }\n",
       "\n",
       "    .dataframe thead th {\n",
       "        text-align: right;\n",
       "    }\n",
       "</style>\n",
       "<table border=\"1\" class=\"dataframe\">\n",
       "  <thead>\n",
       "    <tr style=\"text-align: right;\">\n",
       "      <th></th>\n",
       "      <th>0</th>\n",
       "      <th>1</th>\n",
       "      <th>2</th>\n",
       "      <th>3</th>\n",
       "      <th>4</th>\n",
       "    </tr>\n",
       "  </thead>\n",
       "  <tbody>\n",
       "    <tr>\n",
       "      <th>0</th>\n",
       "      <td>0.841781</td>\n",
       "      <td>0.158219</td>\n",
       "      <td>-0.000000</td>\n",
       "      <td>-0.000000</td>\n",
       "      <td>-0.000000</td>\n",
       "    </tr>\n",
       "    <tr>\n",
       "      <th>1</th>\n",
       "      <td>-0.000000</td>\n",
       "      <td>0.788616</td>\n",
       "      <td>0.211384</td>\n",
       "      <td>-0.000000</td>\n",
       "      <td>-0.000000</td>\n",
       "    </tr>\n",
       "    <tr>\n",
       "      <th>2</th>\n",
       "      <td>-0.000000</td>\n",
       "      <td>-0.000000</td>\n",
       "      <td>0.863397</td>\n",
       "      <td>0.136603</td>\n",
       "      <td>-0.000000</td>\n",
       "    </tr>\n",
       "    <tr>\n",
       "      <th>3</th>\n",
       "      <td>-0.000000</td>\n",
       "      <td>-0.000000</td>\n",
       "      <td>-0.000000</td>\n",
       "      <td>0.791502</td>\n",
       "      <td>0.208498</td>\n",
       "    </tr>\n",
       "    <tr>\n",
       "      <th>4</th>\n",
       "      <td>-0.000000</td>\n",
       "      <td>-0.000000</td>\n",
       "      <td>-0.000000</td>\n",
       "      <td>-0.000000</td>\n",
       "      <td>1.000000</td>\n",
       "    </tr>\n",
       "  </tbody>\n",
       "</table>\n",
       "</div>"
      ],
      "text/plain": [
       "          0         1         2         3         4\n",
       "0  0.841781  0.158219 -0.000000 -0.000000 -0.000000\n",
       "1 -0.000000  0.788616  0.211384 -0.000000 -0.000000\n",
       "2 -0.000000 -0.000000  0.863397  0.136603 -0.000000\n",
       "3 -0.000000 -0.000000 -0.000000  0.791502  0.208498\n",
       "4 -0.000000 -0.000000 -0.000000 -0.000000  1.000000"
      ]
     },
     "execution_count": 18,
     "metadata": {},
     "output_type": "execute_result"
    }
   ],
   "source": [
    "A0"
   ]
  },
  {
   "cell_type": "markdown",
   "id": "361a72b8",
   "metadata": {},
   "source": [
    "### - Observation Probabilities of HMM for digit 0"
   ]
  },
  {
   "cell_type": "code",
   "execution_count": 21,
   "id": "4b54f4e1",
   "metadata": {},
   "outputs": [
    {
     "data": {
      "text/html": [
       "<div>\n",
       "<style scoped>\n",
       "    .dataframe tbody tr th:only-of-type {\n",
       "        vertical-align: middle;\n",
       "    }\n",
       "\n",
       "    .dataframe tbody tr th {\n",
       "        vertical-align: top;\n",
       "    }\n",
       "\n",
       "    .dataframe thead th {\n",
       "        text-align: right;\n",
       "    }\n",
       "</style>\n",
       "<table border=\"1\" class=\"dataframe\">\n",
       "  <thead>\n",
       "    <tr style=\"text-align: right;\">\n",
       "      <th></th>\n",
       "      <th>0</th>\n",
       "      <th>1</th>\n",
       "      <th>2</th>\n",
       "      <th>3</th>\n",
       "      <th>4</th>\n",
       "    </tr>\n",
       "  </thead>\n",
       "  <tbody>\n",
       "    <tr>\n",
       "      <th>0</th>\n",
       "      <td>1.0</td>\n",
       "      <td>-0.000000</td>\n",
       "      <td>-0.000000</td>\n",
       "      <td>-0.000000</td>\n",
       "      <td>1.0</td>\n",
       "    </tr>\n",
       "    <tr>\n",
       "      <th>1</th>\n",
       "      <td>-0.0</td>\n",
       "      <td>0.000348</td>\n",
       "      <td>0.000409</td>\n",
       "      <td>0.000409</td>\n",
       "      <td>-0.0</td>\n",
       "    </tr>\n",
       "    <tr>\n",
       "      <th>2</th>\n",
       "      <td>-0.0</td>\n",
       "      <td>0.000348</td>\n",
       "      <td>0.000409</td>\n",
       "      <td>0.018038</td>\n",
       "      <td>-0.0</td>\n",
       "    </tr>\n",
       "    <tr>\n",
       "      <th>3</th>\n",
       "      <td>-0.0</td>\n",
       "      <td>0.077917</td>\n",
       "      <td>0.000409</td>\n",
       "      <td>0.129038</td>\n",
       "      <td>-0.0</td>\n",
       "    </tr>\n",
       "    <tr>\n",
       "      <th>4</th>\n",
       "      <td>-0.0</td>\n",
       "      <td>0.011896</td>\n",
       "      <td>0.016747</td>\n",
       "      <td>0.000409</td>\n",
       "      <td>-0.0</td>\n",
       "    </tr>\n",
       "    <tr>\n",
       "      <th>5</th>\n",
       "      <td>-0.0</td>\n",
       "      <td>0.000348</td>\n",
       "      <td>0.000409</td>\n",
       "      <td>0.000409</td>\n",
       "      <td>-0.0</td>\n",
       "    </tr>\n",
       "    <tr>\n",
       "      <th>6</th>\n",
       "      <td>-0.0</td>\n",
       "      <td>0.000348</td>\n",
       "      <td>0.002605</td>\n",
       "      <td>0.000031</td>\n",
       "      <td>-0.0</td>\n",
       "    </tr>\n",
       "    <tr>\n",
       "      <th>7</th>\n",
       "      <td>-0.0</td>\n",
       "      <td>0.000348</td>\n",
       "      <td>0.000409</td>\n",
       "      <td>0.000409</td>\n",
       "      <td>-0.0</td>\n",
       "    </tr>\n",
       "    <tr>\n",
       "      <th>8</th>\n",
       "      <td>-0.0</td>\n",
       "      <td>0.000348</td>\n",
       "      <td>0.024108</td>\n",
       "      <td>0.000409</td>\n",
       "      <td>-0.0</td>\n",
       "    </tr>\n",
       "    <tr>\n",
       "      <th>9</th>\n",
       "      <td>-0.0</td>\n",
       "      <td>0.000348</td>\n",
       "      <td>0.000409</td>\n",
       "      <td>0.000409</td>\n",
       "      <td>-0.0</td>\n",
       "    </tr>\n",
       "    <tr>\n",
       "      <th>10</th>\n",
       "      <td>-0.0</td>\n",
       "      <td>0.017877</td>\n",
       "      <td>0.000409</td>\n",
       "      <td>0.163156</td>\n",
       "      <td>-0.0</td>\n",
       "    </tr>\n",
       "    <tr>\n",
       "      <th>11</th>\n",
       "      <td>-0.0</td>\n",
       "      <td>0.000348</td>\n",
       "      <td>0.317312</td>\n",
       "      <td>0.000409</td>\n",
       "      <td>-0.0</td>\n",
       "    </tr>\n",
       "    <tr>\n",
       "      <th>12</th>\n",
       "      <td>-0.0</td>\n",
       "      <td>0.000348</td>\n",
       "      <td>0.000409</td>\n",
       "      <td>0.000409</td>\n",
       "      <td>-0.0</td>\n",
       "    </tr>\n",
       "    <tr>\n",
       "      <th>13</th>\n",
       "      <td>-0.0</td>\n",
       "      <td>0.215045</td>\n",
       "      <td>0.000409</td>\n",
       "      <td>0.049490</td>\n",
       "      <td>-0.0</td>\n",
       "    </tr>\n",
       "    <tr>\n",
       "      <th>14</th>\n",
       "      <td>-0.0</td>\n",
       "      <td>0.000348</td>\n",
       "      <td>0.000409</td>\n",
       "      <td>0.000409</td>\n",
       "      <td>-0.0</td>\n",
       "    </tr>\n",
       "    <tr>\n",
       "      <th>15</th>\n",
       "      <td>-0.0</td>\n",
       "      <td>0.000348</td>\n",
       "      <td>0.000409</td>\n",
       "      <td>0.000409</td>\n",
       "      <td>-0.0</td>\n",
       "    </tr>\n",
       "    <tr>\n",
       "      <th>16</th>\n",
       "      <td>-0.0</td>\n",
       "      <td>0.000348</td>\n",
       "      <td>0.000409</td>\n",
       "      <td>0.018908</td>\n",
       "      <td>-0.0</td>\n",
       "    </tr>\n",
       "    <tr>\n",
       "      <th>17</th>\n",
       "      <td>-0.0</td>\n",
       "      <td>0.000348</td>\n",
       "      <td>0.454359</td>\n",
       "      <td>0.000409</td>\n",
       "      <td>-0.0</td>\n",
       "    </tr>\n",
       "    <tr>\n",
       "      <th>18</th>\n",
       "      <td>-0.0</td>\n",
       "      <td>0.000348</td>\n",
       "      <td>0.000409</td>\n",
       "      <td>0.000409</td>\n",
       "      <td>-0.0</td>\n",
       "    </tr>\n",
       "    <tr>\n",
       "      <th>19</th>\n",
       "      <td>-0.0</td>\n",
       "      <td>0.000348</td>\n",
       "      <td>0.000409</td>\n",
       "      <td>0.002319</td>\n",
       "      <td>-0.0</td>\n",
       "    </tr>\n",
       "    <tr>\n",
       "      <th>20</th>\n",
       "      <td>-0.0</td>\n",
       "      <td>0.000348</td>\n",
       "      <td>0.000409</td>\n",
       "      <td>0.000409</td>\n",
       "      <td>-0.0</td>\n",
       "    </tr>\n",
       "    <tr>\n",
       "      <th>21</th>\n",
       "      <td>-0.0</td>\n",
       "      <td>0.000348</td>\n",
       "      <td>0.000409</td>\n",
       "      <td>0.000409</td>\n",
       "      <td>-0.0</td>\n",
       "    </tr>\n",
       "    <tr>\n",
       "      <th>22</th>\n",
       "      <td>-0.0</td>\n",
       "      <td>0.566493</td>\n",
       "      <td>0.000409</td>\n",
       "      <td>0.501768</td>\n",
       "      <td>-0.0</td>\n",
       "    </tr>\n",
       "    <tr>\n",
       "      <th>23</th>\n",
       "      <td>-0.0</td>\n",
       "      <td>0.022412</td>\n",
       "      <td>0.007021</td>\n",
       "      <td>0.000409</td>\n",
       "      <td>-0.0</td>\n",
       "    </tr>\n",
       "    <tr>\n",
       "      <th>24</th>\n",
       "      <td>-0.0</td>\n",
       "      <td>0.000348</td>\n",
       "      <td>0.000409</td>\n",
       "      <td>0.000409</td>\n",
       "      <td>-0.0</td>\n",
       "    </tr>\n",
       "    <tr>\n",
       "      <th>25</th>\n",
       "      <td>-0.0</td>\n",
       "      <td>0.006277</td>\n",
       "      <td>0.000409</td>\n",
       "      <td>0.000409</td>\n",
       "      <td>-0.0</td>\n",
       "    </tr>\n",
       "    <tr>\n",
       "      <th>26</th>\n",
       "      <td>-0.0</td>\n",
       "      <td>0.000348</td>\n",
       "      <td>0.071675</td>\n",
       "      <td>0.108251</td>\n",
       "      <td>-0.0</td>\n",
       "    </tr>\n",
       "    <tr>\n",
       "      <th>27</th>\n",
       "      <td>-0.0</td>\n",
       "      <td>0.000348</td>\n",
       "      <td>0.089950</td>\n",
       "      <td>0.000409</td>\n",
       "      <td>-0.0</td>\n",
       "    </tr>\n",
       "    <tr>\n",
       "      <th>28</th>\n",
       "      <td>-0.0</td>\n",
       "      <td>0.000348</td>\n",
       "      <td>0.000409</td>\n",
       "      <td>0.000409</td>\n",
       "      <td>-0.0</td>\n",
       "    </tr>\n",
       "    <tr>\n",
       "      <th>29</th>\n",
       "      <td>-0.0</td>\n",
       "      <td>0.074028</td>\n",
       "      <td>0.000409</td>\n",
       "      <td>0.000409</td>\n",
       "      <td>-0.0</td>\n",
       "    </tr>\n",
       "    <tr>\n",
       "      <th>30</th>\n",
       "      <td>-0.0</td>\n",
       "      <td>0.000348</td>\n",
       "      <td>0.000409</td>\n",
       "      <td>0.000409</td>\n",
       "      <td>-0.0</td>\n",
       "    </tr>\n",
       "    <tr>\n",
       "      <th>31</th>\n",
       "      <td>-0.0</td>\n",
       "      <td>0.000348</td>\n",
       "      <td>0.006601</td>\n",
       "      <td>0.000409</td>\n",
       "      <td>-0.0</td>\n",
       "    </tr>\n",
       "  </tbody>\n",
       "</table>\n",
       "</div>"
      ],
      "text/plain": [
       "      0         1         2         3    4\n",
       "0   1.0 -0.000000 -0.000000 -0.000000  1.0\n",
       "1  -0.0  0.000348  0.000409  0.000409 -0.0\n",
       "2  -0.0  0.000348  0.000409  0.018038 -0.0\n",
       "3  -0.0  0.077917  0.000409  0.129038 -0.0\n",
       "4  -0.0  0.011896  0.016747  0.000409 -0.0\n",
       "5  -0.0  0.000348  0.000409  0.000409 -0.0\n",
       "6  -0.0  0.000348  0.002605  0.000031 -0.0\n",
       "7  -0.0  0.000348  0.000409  0.000409 -0.0\n",
       "8  -0.0  0.000348  0.024108  0.000409 -0.0\n",
       "9  -0.0  0.000348  0.000409  0.000409 -0.0\n",
       "10 -0.0  0.017877  0.000409  0.163156 -0.0\n",
       "11 -0.0  0.000348  0.317312  0.000409 -0.0\n",
       "12 -0.0  0.000348  0.000409  0.000409 -0.0\n",
       "13 -0.0  0.215045  0.000409  0.049490 -0.0\n",
       "14 -0.0  0.000348  0.000409  0.000409 -0.0\n",
       "15 -0.0  0.000348  0.000409  0.000409 -0.0\n",
       "16 -0.0  0.000348  0.000409  0.018908 -0.0\n",
       "17 -0.0  0.000348  0.454359  0.000409 -0.0\n",
       "18 -0.0  0.000348  0.000409  0.000409 -0.0\n",
       "19 -0.0  0.000348  0.000409  0.002319 -0.0\n",
       "20 -0.0  0.000348  0.000409  0.000409 -0.0\n",
       "21 -0.0  0.000348  0.000409  0.000409 -0.0\n",
       "22 -0.0  0.566493  0.000409  0.501768 -0.0\n",
       "23 -0.0  0.022412  0.007021  0.000409 -0.0\n",
       "24 -0.0  0.000348  0.000409  0.000409 -0.0\n",
       "25 -0.0  0.006277  0.000409  0.000409 -0.0\n",
       "26 -0.0  0.000348  0.071675  0.108251 -0.0\n",
       "27 -0.0  0.000348  0.089950  0.000409 -0.0\n",
       "28 -0.0  0.000348  0.000409  0.000409 -0.0\n",
       "29 -0.0  0.074028  0.000409  0.000409 -0.0\n",
       "30 -0.0  0.000348  0.000409  0.000409 -0.0\n",
       "31 -0.0  0.000348  0.006601  0.000409 -0.0"
      ]
     },
     "execution_count": 21,
     "metadata": {},
     "output_type": "execute_result"
    }
   ],
   "source": [
    "B0"
   ]
  },
  {
   "cell_type": "markdown",
   "id": "cf776479",
   "metadata": {},
   "source": [
    "### - Initial Probabilities of HMM for digit 0"
   ]
  },
  {
   "cell_type": "code",
   "execution_count": 24,
   "id": "858de419",
   "metadata": {},
   "outputs": [
    {
     "data": {
      "text/plain": [
       "array([1., 0., 0., 0., 0.])"
      ]
     },
     "execution_count": 24,
     "metadata": {},
     "output_type": "execute_result"
    }
   ],
   "source": [
    "vect_p0"
   ]
  },
  {
   "cell_type": "markdown",
   "id": "bc340542",
   "metadata": {},
   "source": [
    "## Sequence Representations\n",
    "- The file __matrice_symboles.txt__ holds the observation vocabulary i.e. all the possible observations (5 x 32 matrix).\n",
    "- A sequence of observations is represented by a sequence of numbers indicating the position of the observation in the vocabulary.\n",
    "- We have 3 files: __SeqTest0.txt__, __SeqTest1.txt__ and __SeqTest7.txt__ each containing 10 sequences of the digits they represent."
   ]
  },
  {
   "cell_type": "markdown",
   "id": "f23b4531",
   "metadata": {},
   "source": [
    "### - Observation Vocabulary"
   ]
  },
  {
   "cell_type": "code",
   "execution_count": 25,
   "id": "a65c11b9",
   "metadata": {},
   "outputs": [
    {
     "data": {
      "text/html": [
       "<div>\n",
       "<style scoped>\n",
       "    .dataframe tbody tr th:only-of-type {\n",
       "        vertical-align: middle;\n",
       "    }\n",
       "\n",
       "    .dataframe tbody tr th {\n",
       "        vertical-align: top;\n",
       "    }\n",
       "\n",
       "    .dataframe thead th {\n",
       "        text-align: right;\n",
       "    }\n",
       "</style>\n",
       "<table border=\"1\" class=\"dataframe\">\n",
       "  <thead>\n",
       "    <tr style=\"text-align: right;\">\n",
       "      <th></th>\n",
       "      <th>0</th>\n",
       "      <th>1</th>\n",
       "      <th>2</th>\n",
       "      <th>3</th>\n",
       "      <th>4</th>\n",
       "      <th>5</th>\n",
       "      <th>6</th>\n",
       "      <th>7</th>\n",
       "      <th>8</th>\n",
       "      <th>9</th>\n",
       "      <th>...</th>\n",
       "      <th>22</th>\n",
       "      <th>23</th>\n",
       "      <th>24</th>\n",
       "      <th>25</th>\n",
       "      <th>26</th>\n",
       "      <th>27</th>\n",
       "      <th>28</th>\n",
       "      <th>29</th>\n",
       "      <th>30</th>\n",
       "      <th>31</th>\n",
       "    </tr>\n",
       "  </thead>\n",
       "  <tbody>\n",
       "    <tr>\n",
       "      <th>0</th>\n",
       "      <td>0.0</td>\n",
       "      <td>1.0</td>\n",
       "      <td>0.0</td>\n",
       "      <td>0.0</td>\n",
       "      <td>0.0</td>\n",
       "      <td>0.0</td>\n",
       "      <td>1.0</td>\n",
       "      <td>1.0</td>\n",
       "      <td>1.0</td>\n",
       "      <td>1.0</td>\n",
       "      <td>...</td>\n",
       "      <td>0.0</td>\n",
       "      <td>0.0</td>\n",
       "      <td>0.0</td>\n",
       "      <td>0.0</td>\n",
       "      <td>1.0</td>\n",
       "      <td>1.0</td>\n",
       "      <td>1.0</td>\n",
       "      <td>0.0</td>\n",
       "      <td>1.0</td>\n",
       "      <td>1.0</td>\n",
       "    </tr>\n",
       "    <tr>\n",
       "      <th>1</th>\n",
       "      <td>0.0</td>\n",
       "      <td>0.0</td>\n",
       "      <td>1.0</td>\n",
       "      <td>0.0</td>\n",
       "      <td>0.0</td>\n",
       "      <td>0.0</td>\n",
       "      <td>1.0</td>\n",
       "      <td>0.0</td>\n",
       "      <td>0.0</td>\n",
       "      <td>0.0</td>\n",
       "      <td>...</td>\n",
       "      <td>1.0</td>\n",
       "      <td>1.0</td>\n",
       "      <td>1.0</td>\n",
       "      <td>0.0</td>\n",
       "      <td>1.0</td>\n",
       "      <td>1.0</td>\n",
       "      <td>1.0</td>\n",
       "      <td>1.0</td>\n",
       "      <td>0.0</td>\n",
       "      <td>1.0</td>\n",
       "    </tr>\n",
       "    <tr>\n",
       "      <th>2</th>\n",
       "      <td>0.0</td>\n",
       "      <td>0.0</td>\n",
       "      <td>0.0</td>\n",
       "      <td>1.0</td>\n",
       "      <td>0.0</td>\n",
       "      <td>0.0</td>\n",
       "      <td>0.0</td>\n",
       "      <td>1.0</td>\n",
       "      <td>0.0</td>\n",
       "      <td>0.0</td>\n",
       "      <td>...</td>\n",
       "      <td>1.0</td>\n",
       "      <td>0.0</td>\n",
       "      <td>1.0</td>\n",
       "      <td>1.0</td>\n",
       "      <td>1.0</td>\n",
       "      <td>0.0</td>\n",
       "      <td>1.0</td>\n",
       "      <td>1.0</td>\n",
       "      <td>1.0</td>\n",
       "      <td>1.0</td>\n",
       "    </tr>\n",
       "    <tr>\n",
       "      <th>3</th>\n",
       "      <td>0.0</td>\n",
       "      <td>0.0</td>\n",
       "      <td>0.0</td>\n",
       "      <td>0.0</td>\n",
       "      <td>1.0</td>\n",
       "      <td>0.0</td>\n",
       "      <td>0.0</td>\n",
       "      <td>0.0</td>\n",
       "      <td>1.0</td>\n",
       "      <td>0.0</td>\n",
       "      <td>...</td>\n",
       "      <td>1.0</td>\n",
       "      <td>1.0</td>\n",
       "      <td>0.0</td>\n",
       "      <td>1.0</td>\n",
       "      <td>1.0</td>\n",
       "      <td>1.0</td>\n",
       "      <td>0.0</td>\n",
       "      <td>1.0</td>\n",
       "      <td>1.0</td>\n",
       "      <td>1.0</td>\n",
       "    </tr>\n",
       "    <tr>\n",
       "      <th>4</th>\n",
       "      <td>0.0</td>\n",
       "      <td>0.0</td>\n",
       "      <td>0.0</td>\n",
       "      <td>0.0</td>\n",
       "      <td>0.0</td>\n",
       "      <td>1.0</td>\n",
       "      <td>0.0</td>\n",
       "      <td>0.0</td>\n",
       "      <td>0.0</td>\n",
       "      <td>1.0</td>\n",
       "      <td>...</td>\n",
       "      <td>0.0</td>\n",
       "      <td>1.0</td>\n",
       "      <td>1.0</td>\n",
       "      <td>1.0</td>\n",
       "      <td>0.0</td>\n",
       "      <td>1.0</td>\n",
       "      <td>1.0</td>\n",
       "      <td>1.0</td>\n",
       "      <td>1.0</td>\n",
       "      <td>1.0</td>\n",
       "    </tr>\n",
       "  </tbody>\n",
       "</table>\n",
       "<p>5 rows × 32 columns</p>\n",
       "</div>"
      ],
      "text/plain": [
       "    0    1    2    3    4    5    6    7    8    9   ...   22   23   24   25  \\\n",
       "0  0.0  1.0  0.0  0.0  0.0  0.0  1.0  1.0  1.0  1.0  ...  0.0  0.0  0.0  0.0   \n",
       "1  0.0  0.0  1.0  0.0  0.0  0.0  1.0  0.0  0.0  0.0  ...  1.0  1.0  1.0  0.0   \n",
       "2  0.0  0.0  0.0  1.0  0.0  0.0  0.0  1.0  0.0  0.0  ...  1.0  0.0  1.0  1.0   \n",
       "3  0.0  0.0  0.0  0.0  1.0  0.0  0.0  0.0  1.0  0.0  ...  1.0  1.0  0.0  1.0   \n",
       "4  0.0  0.0  0.0  0.0  0.0  1.0  0.0  0.0  0.0  1.0  ...  0.0  1.0  1.0  1.0   \n",
       "\n",
       "    26   27   28   29   30   31  \n",
       "0  1.0  1.0  1.0  0.0  1.0  1.0  \n",
       "1  1.0  1.0  1.0  1.0  0.0  1.0  \n",
       "2  1.0  0.0  1.0  1.0  1.0  1.0  \n",
       "3  1.0  1.0  0.0  1.0  1.0  1.0  \n",
       "4  0.0  1.0  1.0  1.0  1.0  1.0  \n",
       "\n",
       "[5 rows x 32 columns]"
      ]
     },
     "execution_count": 25,
     "metadata": {},
     "output_type": "execute_result"
    }
   ],
   "source": [
    "V = np.loadtxt('data/matrice_symboles.txt')\n",
    "V = pd.DataFrame(V)\n",
    "V"
   ]
  },
  {
   "cell_type": "code",
   "execution_count": 27,
   "id": "6b32c861",
   "metadata": {},
   "outputs": [],
   "source": [
    "def chargement_seq_test(digit):\n",
    "    name = 'SeqTest' + str(digit)\n",
    "    seq_test = np.loadtxt('data/' + name + '.txt')\n",
    "    seq_test = pd.DataFrame(seq_test)\n",
    "    return seq_test"
   ]
  },
  {
   "cell_type": "code",
   "execution_count": 28,
   "id": "fed68f24",
   "metadata": {},
   "outputs": [],
   "source": [
    "seq_test_0 = chargement_seq_test(0)\n",
    "seq_test_1 = chargement_seq_test(1)\n",
    "seq_test_7 = chargement_seq_test(7)"
   ]
  },
  {
   "cell_type": "markdown",
   "id": "2b2b66fa",
   "metadata": {},
   "source": [
    "### - Observation Sequence for digit 0"
   ]
  },
  {
   "cell_type": "code",
   "execution_count": 53,
   "id": "9e207ee5",
   "metadata": {},
   "outputs": [
    {
     "name": "stdout",
     "output_type": "stream",
     "text": [
      "[1, 1, 1, 1, 1, 1, 14, 14, 14, 23, 12, 12, 12, 12, 18, 18, 18, 18, 18, 18, 23, 23, 14, 1, 1, 1, 1, 1]\n"
     ]
    }
   ],
   "source": [
    "seq = [int(i) for i in seq_test_0.iloc[0,:].values]\n",
    "print(seq)"
   ]
  },
  {
   "cell_type": "code",
   "execution_count": 48,
   "id": "aa731a16",
   "metadata": {},
   "outputs": [],
   "source": [
    "# source: TP Markov-HMM Télécom Paris par Laurence Likforman-Sulem, Morgan Buisson, David Perera\n",
    "def visualise_observation(observation_seq):\n",
    "    im=[]\n",
    "\n",
    "    for t in range (0,len(observation_seq)):\n",
    "        im_col=V.iloc[:, observation_seq[t]]\n",
    "        im.append(im_col)\n",
    "    \n",
    "    im = np.array(im).T # now make an array\n",
    "    plt.imshow(im*255, cmap='Greys', interpolation='none', aspect='auto')\n"
   ]
  },
  {
   "cell_type": "markdown",
   "id": "9a145982",
   "metadata": {},
   "source": [
    "### - Visualisation of Observation Sequence"
   ]
  },
  {
   "cell_type": "code",
   "execution_count": 49,
   "id": "6ae4d493",
   "metadata": {},
   "outputs": [
    {
     "data": {
      "image/png": "[encoded data removed]",
      "text/plain": [
       "<Figure size 432x288 with 1 Axes>"
      ]
     },
     "metadata": {
      "needs_background": "light"
     },
     "output_type": "display_data"
    }
   ],
   "source": [
    "visualise_observation(seq)"
   ]
  },
  {
   "cell_type": "markdown",
   "id": "8aded599",
   "metadata": {},
   "source": [
    "## Classification of Handwritten Digit Images"
   ]
  },
  {
   "cell_type": "markdown",
   "id": "019fce3e",
   "metadata": {},
   "source": [
    "### - Viterbi Algorithm\n",
    "Given an HMM and a sequence, the Viterbi algorithm calculates the likelihood of the sequence by the given model."
   ]
  },
  {
   "cell_type": "code",
   "execution_count": 54,
   "id": "7dff1713",
   "metadata": {},
   "outputs": [],
   "source": [
    "def vraisemblance_viterbi(A, B, pi, seq_obs):\n",
    "    \n",
    "    #A = np.log(A)\n",
    "    #B = np.log(B)\n",
    "    #pi = np.log(pi)\n",
    "    \n",
    "    nb_etats = B.shape[1]\n",
    "    nb_observations = len(seq_obs)\n",
    "    matrice_viterbi = pd.DataFrame([[-1.0]*nb_observations]*nb_etats)\n",
    "    matrice_chemin_viterbi = pd.DataFrame([[-1.0]*nb_observations]*nb_etats)\n",
    "\n",
    "    # initialisation viterbi\n",
    "    for i in range(nb_etats):\n",
    "        obs_0 = int(seq_obs[0]) - 1\n",
    "        matrice_viterbi.iloc[i,0] = B.iloc[obs_0,i] * pi[i]\n",
    "    \n",
    "    # recursion viterbi\n",
    "    for t in range(1,nb_observations):\n",
    "        obs_t = int(seq_obs[t]) - 1\n",
    "        for i in range(nb_etats):\n",
    "            matrice_viterbi.iloc[i,t] = B.iloc[obs_t, i] * np.max([A.iloc[j,i] * matrice_viterbi.iloc[j, t-1] for j in range(nb_etats)])\n",
    "\n",
    "    # vraisemblance\n",
    "    return np.max([matrice_viterbi.iloc[i, nb_observations-1] for i in range(nb_etats)])\n"
   ]
  },
  {
   "cell_type": "markdown",
   "id": "80310f50",
   "metadata": {},
   "source": [
    "### - Preparing Test Dataset (images and lables)"
   ]
  },
  {
   "cell_type": "code",
   "execution_count": 55,
   "id": "acc57286",
   "metadata": {},
   "outputs": [],
   "source": [
    "images = []\n",
    "labels = []\n",
    "\n",
    "# get images for label 0\n",
    "for i in range(len(seq_test_0)):\n",
    "    images.append(seq_test_0.iloc[i, :])\n",
    "    labels.append(0)\n",
    "\n",
    "# get images for label 1\n",
    "for i in range(len(seq_test_1)):\n",
    "    images.append(seq_test_1.iloc[i, :])\n",
    "    labels.append(1)\n",
    "    \n",
    "# get images for label 7\n",
    "for i in range(len(seq_test_7)):\n",
    "    images.append(seq_test_7.iloc[i, :])\n",
    "    labels.append(7)\n",
    "    \n",
    "# shuffle the images and labels\n",
    "idx = list(range(len(images)))\n",
    "np.random.shuffle(idx)\n",
    "\n",
    "images = [images[i] for i in idx]\n",
    "labels = [labels[i] for i in idx]"
   ]
  },
  {
   "cell_type": "markdown",
   "id": "4c0e7a45",
   "metadata": {},
   "source": [
    "### - Classification"
   ]
  },
  {
   "cell_type": "code",
   "execution_count": 57,
   "id": "851deef6",
   "metadata": {},
   "outputs": [],
   "source": [
    "def classification(X, y_true, classes, A, B, pi):\n",
    "    \n",
    "    y_pred = []\n",
    "    \n",
    "    for i in range(len(X)):\n",
    "        class_vraisemblance = [0.0] * len(classes)\n",
    "        \n",
    "        # calculer la vraisemblance pour chaque classe\n",
    "        for j in range(len(classes)):\n",
    "            a = A[j]\n",
    "            class_vraisemblance[j] = vraisemblance_viterbi(A[j], B[j], pi[j], X[i])\n",
    "    \n",
    "        y_pred.append(classes[np.argmax(class_vraisemblance)])\n",
    "        \n",
    "    return accuracy_score(y_true, y_pred)"
   ]
  },
  {
   "cell_type": "code",
   "execution_count": 60,
   "id": "823c7458",
   "metadata": {},
   "outputs": [
    {
     "name": "stdout",
     "output_type": "stream",
     "text": [
      "Classification accuracy score of 30 images: 0.9666666666666667\n"
     ]
    }
   ],
   "source": [
    "accuracy = classification(X=images, y_true=labels, classes=[0, 1, 7], A=[A0, A1, A7], B=[B0, B1, B7], pi=[vect_p0, vect_p1, vect_p7])\n",
    "print('Classification accuracy score of 30 images: ' + str(accuracy))"
   ]
  },
  {
   "cell_type": "markdown",
   "id": "3002834a",
   "metadata": {},
   "source": [
    "### Visualising some classification results"
   ]
  },
  {
   "cell_type": "code",
   "execution_count": 62,
   "id": "ff646011",
   "metadata": {},
   "outputs": [],
   "source": [
    "def image_classification(image, classes, A, B, pi):\n",
    "    \n",
    "    class_vraisemblance = []\n",
    "    \n",
    "    # calculer la vraisemblance pour chaque classe\n",
    "    for j in range(len(classes)):\n",
    "        class_vraisemblance.append(vraisemblance_viterbi(A[j], B[j], pi[j], image))\n",
    "            \n",
    "    return classes[np.argmax(class_vraisemblance)]"
   ]
  },
  {
   "cell_type": "code",
   "execution_count": 63,
   "id": "47e36687",
   "metadata": {},
   "outputs": [
    {
     "name": "stdout",
     "output_type": "stream",
     "text": [
      "predicted class: 1\n",
      "true class: 1\n",
      "image:\n"
     ]
    },
    {
     "data": {
      "image/png": "[encoded data removed]",
      "text/plain": [
       "<Figure size 432x288 with 1 Axes>"
      ]
     },
     "metadata": {
      "needs_background": "light"
     },
     "output_type": "display_data"
    }
   ],
   "source": [
    "i = 0\n",
    "y = image_classification(images[i], classes=[0, 1, 7], A=[A0, A1, A7], B=[B0, B1, B7], pi=[vect_p0, vect_p1, vect_p7])\n",
    "print('predicted class: '+ str(y))\n",
    "print('true class: '+ str(labels[i]))\n",
    "print('image:')\n",
    "visualise_observation([int(j)-1 for j in images[i]])"
   ]
  },
  {
   "cell_type": "code",
   "execution_count": 65,
   "id": "55f88f69",
   "metadata": {},
   "outputs": [
    {
     "name": "stdout",
     "output_type": "stream",
     "text": [
      "predicted class: 7\n",
      "true class: 7\n",
      "image:\n"
     ]
    },
    {
     "data": {
      "image/png": "[encoded data removed]",
      "text/plain": [
       "<Figure size 432x288 with 1 Axes>"
      ]
     },
     "metadata": {
      "needs_background": "light"
     },
     "output_type": "display_data"
    }
   ],
   "source": [
    "i = 1\n",
    "y = image_classification(images[i], classes=[0, 1, 7], A=[A0, A1, A7], B=[B0, B1, B7], pi=[vect_p0, vect_p1, vect_p7])\n",
    "print('predicted class: '+ str(y))\n",
    "print('true class: '+ str(labels[i]))\n",
    "print('image:')\n",
    "visualise_observation([int(j)-1 for j in images[i]])"
   ]
  },
  {
   "cell_type": "code",
   "execution_count": 64,
   "id": "5821a6c9",
   "metadata": {},
   "outputs": [
    {
     "name": "stdout",
     "output_type": "stream",
     "text": [
      "predicted class: 0\n",
      "true class: 0\n",
      "image:\n"
     ]
    },
    {
     "data": {
      "image/png": "[encoded data removed]",
      "text/plain": [
       "<Figure size 432x288 with 1 Axes>"
      ]
     },
     "metadata": {
      "needs_background": "light"
     },
     "output_type": "display_data"
    }
   ],
   "source": [
    "i = 2\n",
    "y = image_classification(images[i], classes=[0, 1, 7], A=[A0, A1, A7], B=[B0, B1, B7], pi=[vect_p0, vect_p1, vect_p7])\n",
    "print('predicted class: '+ str(y))\n",
    "print('true class: '+ str(labels[i]))\n",
    "print('image:')\n",
    "visualise_observation([int(j)-1 for j in images[i]])"
   ]
  },
  {
   "cell_type": "markdown",
   "id": "3f31b10b",
   "metadata": {},
   "source": [
    "## Conclusion\n",
    "- We have classified 30 images into classes: 0, 1 or 7 (10 images per class) according to the digits they represent.\n",
    "- With the HMM models we have been provided with, and our implementation of the Viterbi algorithm we obtained an accuracy score of **0.966**."
   ]
  },
  {
   "cell_type": "code",
   "execution_count": null,
   "id": "6c2859e7",
   "metadata": {},
   "outputs": [],
   "source": []
  }
 ],
 "metadata": {
  "kernelspec": {
   "display_name": "Python 3",
   "language": "python",
   "name": "python3"
  },
  "language_info": {
   "codemirror_mode": {
    "name": "ipython",
    "version": 3
   },
   "file_extension": ".py",
   "mimetype": "text/x-python",
   "name": "python",
   "nbconvert_exporter": "python",
   "pygments_lexer": "ipython3",
   "version": "3.8.8"
  }
 },
 "nbformat": 4,
 "nbformat_minor": 5
}
