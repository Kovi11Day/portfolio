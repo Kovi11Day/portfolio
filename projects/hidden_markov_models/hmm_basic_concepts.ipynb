{
 "cells": [
  {
   "cell_type": "markdown",
   "id": "a568aa02",
   "metadata": {},
   "source": [
    "# Hidden Markov Model (HMM)\n",
    "\n",
    "* [1. Markov Chain](#section1)\n",
    "* [2. Hidden Markov Model](#section2)\n",
    "* [3. Application of HMMs](#section3)\n"
   ]
  },
  {
   "attachments": {
    "MFLe5RY72V-small-markov-chain.png": {
     "image/png": "[encoded data removed]"
    }
   },
   "cell_type": "markdown",
   "id": "7b040239",
   "metadata": {},
   "source": [
    "## 1. Markov Chain [1] <a class=\"anchor\" id=\"section1\"></a>\n",
    "- A Markov chain is a mathematical system that experiences **transitions** from one **state** to another according to certain **probabilistic rules**.\n",
    "- A Markov Chain exihibits the Markov Property: the probability of future event actions are not dependent upon the steps that led up to the present state.\n",
    "- The probabilities of transition from one state to another are specified by a **transition matrix**.\n",
    "\n",
    "\n",
    "|![MFLe5RY72V-small-markov-chain.png](attachment:MFLe5RY72V-small-markov-chain.png)\n",
    "| :--:| \n",
    "| *example of markov chain [1]* |"
   ]
  },
  {
   "cell_type": "markdown",
   "id": "fd6b0778",
   "metadata": {},
   "source": [
    "## 2. Hidden Markov Model (HMM) [2] <a class=\"anchor\" id=\"section2\"></a>\n",
    "- The HMM comprises of 2 main components: the hidden states and the observations generated by the hidden states.\n",
    "- The HMM is the relationship between the hidden states and the observations using 2 sets of probabilities:\n",
    "    1. **the transition probabilities**: the probabilities of transitioning from 1 hidden state to another\n",
    "    2. **the emission probabilities**: the probabilities of an observation given a hidden state\n",
    "- To train an HMM model, the parameters of the state transition probabilites and observation likelihoods are estimated using the Baume-Welch algorithm or the forward-backward algorithm. The parameters are iteratively updated until convergence.\n",
    "- To decode the most likely sequence sequence of the hidden states, the Viterbi algorithm is applied. This can be used to predict future observations or classify sequences."
   ]
  },
  {
   "cell_type": "markdown",
   "id": "48799288",
   "metadata": {},
   "source": [
    "## 3. Applications of HMMs <a class=\"anchor\" id=\"section3\"></a>\n",
    "- handwriting recognition\n",
    "- speech recognition\n",
    "- object recognition in images and videos\n",
    "- NLP: tagging morpho-syntaxique\n",
    "- NLP: orthograph correction"
   ]
  },
  {
   "cell_type": "markdown",
   "id": "a73527f7",
   "metadata": {},
   "source": [
    "## References\n",
    "[1] https://brilliant.org/wiki/markov-chains/\n",
    "\n",
    "[2] https://www.geeksforgeeks.org/hidden-markov-model-in-machine-learning/\n",
    "\n"
   ]
  },
  {
   "cell_type": "code",
   "execution_count": null,
   "id": "1a3a5150",
   "metadata": {},
   "outputs": [],
   "source": []
  }
 ],
 "metadata": {
  "kernelspec": {
   "display_name": "Python 3",
   "language": "python",
   "name": "python3"
  },
  "language_info": {
   "codemirror_mode": {
    "name": "ipython",
    "version": 3
   },
   "file_extension": ".py",
   "mimetype": "text/x-python",
   "name": "python",
   "nbconvert_exporter": "python",
   "pygments_lexer": "ipython3",
   "version": "3.8.8"
  }
 },
 "nbformat": 4,
 "nbformat_minor": 5
}
